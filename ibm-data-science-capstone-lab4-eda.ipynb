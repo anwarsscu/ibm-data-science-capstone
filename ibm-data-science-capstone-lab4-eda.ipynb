{
 "cells": [
  {
   "cell_type": "markdown",
   "id": "9b19933d-80c5-4fdd-9a7b-85da90846501",
   "metadata": {},
   "source": [
    "# IBM Data Science Capstone Project"
   ]
  },
  {
   "cell_type": "markdown",
   "id": "4bf61368-c9b5-45d1-9840-dec44622b734",
   "metadata": {},
   "source": [
    "## Lab 4: Exploring and Preparing Data\n",
    "## Project Title: SpaceX Falcon 9 First Stage Landing Prediction\n",
    "## Assignment: Exploring and Preparing Data"
   ]
  },
  {
   "cell_type": "markdown",
   "id": "05ed2ebf-2f5c-4fdd-8ae5-edeef73ececd",
   "metadata": {},
   "source": [
    "### Objective\n",
    "#### In this lab, we aim to explore and prepare data to predict whether the Falcon 9 first stage will land successfully. SpaceX advertises its Falcon 9 launches at a cost of $62 million, while other providers often charge over $165 million. Much of SpaceX's cost savings is due to reusability of the first stage boosters.</br>\n",
    "\n",
    "You will perform:<br/>\n",
    "\n",
    "Exploratory Data Analysis (EDA)<br/>\n",
    "\n",
    "Feature Engineering"
   ]
  },
  {
   "cell_type": "markdown",
   "id": "0d300b9a-1e73-4ba8-9f7d-b6810092dc90",
   "metadata": {},
   "source": [
    "## Tasks Overview"
   ]
  },
  {
   "cell_type": "markdown",
   "id": "9c90ecb7-b4d4-4319-bc01-294a2bdf3c43",
   "metadata": {},
   "source": [
    "### Import Required Libraries"
   ]
  },
  {
   "cell_type": "code",
   "execution_count": null,
   "id": "73d76d25-7ebe-4ace-9b83-9e2e92b858df",
   "metadata": {},
   "outputs": [],
   "source": [
    "import pandas as pd\n",
    "import numpy as np\n",
    "import matplotlib.pyplot as plt\n",
    "import seaborn as sns\n"
   ]
  },
  {
   "cell_type": "markdown",
   "id": "71dbda22-f957-4682-8c72-034a04f2b015",
   "metadata": {},
   "source": [
    "### Optionally (for online environments like JupyterLite):"
   ]
  },
  {
   "cell_type": "code",
   "execution_count": null,
   "id": "503a3634-e795-44fe-848a-83c58654c26d",
   "metadata": {},
   "outputs": [],
   "source": [
    "import piplite\n",
    "await piplite.install(['numpy', 'pandas', 'seaborn'])\n"
   ]
  },
  {
   "cell_type": "markdown",
   "id": "3af214eb-37fa-4d39-8213-fdf8254a4ac7",
   "metadata": {},
   "source": [
    "### Load Dataset"
   ]
  },
  {
   "cell_type": "code",
   "execution_count": null,
   "id": "38671455-edf9-4998-8e47-7bc9faf3a914",
   "metadata": {},
   "outputs": [],
   "source": [
    "from js import fetch\n",
    "import io\n",
    "\n",
    "URL = \"https://cf-courses-data.s3.us.cloud-object-storage.appdomain.cloud/IBM-DS0321EN-SkillsNetwork/datasets/dataset_part_2.csv\"\n",
    "resp = await fetch(URL)\n",
    "dataset_part_2_csv = io.BytesIO((await resp.arrayBuffer()).to_py())\n",
    "\n",
    "df = pd.read_csv(dataset_part_2_csv)\n",
    "df.head()\n"
   ]
  },
  {
   "cell_type": "markdown",
   "id": "66d0e430-8f52-4977-b5ff-269416c7bf67",
   "metadata": {},
   "source": [
    "## 📊 Exploratory Data Analysis\n",
    "### 🔸 Task 1: Flight Number vs. Launch Site"
   ]
  },
  {
   "cell_type": "code",
   "execution_count": null,
   "id": "1ca696b1-2942-45e0-8084-6725db3b0e82",
   "metadata": {},
   "outputs": [],
   "source": [
    "sns.catplot(y=\"LaunchSite\", x=\"FlightNumber\", hue=\"Class\", data=df, aspect=5)\n",
    "plt.xlabel(\"Flight Number\", fontsize=20)\n",
    "plt.ylabel(\"Launch Site\", fontsize=20)\n",
    "plt.show()\n"
   ]
  },
  {
   "cell_type": "markdown",
   "id": "20a7c494-700e-4111-a805-de75160fc76a",
   "metadata": {},
   "source": [
    "### 🔸 Task 2: Payload Mass vs. Launch Site"
   ]
  },
  {
   "cell_type": "code",
   "execution_count": null,
   "id": "71f4f6ea-f9bc-481b-a007-34cbffaa69dd",
   "metadata": {},
   "outputs": [],
   "source": [
    "sns.catplot(y=\"LaunchSite\", x=\"PayloadMass\", hue=\"Class\", data=df, aspect=5)\n",
    "plt.xlabel(\"Payload Mass (kg)\", fontsize=20)\n",
    "plt.ylabel(\"Launch Site\", fontsize=20)\n",
    "plt.show()\n"
   ]
  },
  {
   "cell_type": "markdown",
   "id": "02724e21-3cf0-4ca7-8f04-c95588b07990",
   "metadata": {},
   "source": [
    "### 🔸 Task 3: Orbit vs. Success Rate"
   ]
  },
  {
   "cell_type": "code",
   "execution_count": null,
   "id": "1d66b311-65ce-4e06-90f8-693730d69848",
   "metadata": {},
   "outputs": [],
   "source": [
    "df.groupby('Orbit')['Class'].mean().plot(kind='bar')\n",
    "plt.ylabel(\"Success Rate\")\n",
    "plt.title(\"Success Rate per Orbit\")\n",
    "plt.show()\n"
   ]
  },
  {
   "cell_type": "markdown",
   "id": "6efbe41b-6a5c-4424-8a90-e9c2b3f3ad6f",
   "metadata": {},
   "source": [
    "### 🔸 Task 4: Flight Number vs. Orbit"
   ]
  },
  {
   "cell_type": "code",
   "execution_count": null,
   "id": "5a0560de-4596-495c-a384-b889d6494009",
   "metadata": {},
   "outputs": [],
   "source": [
    "sns.catplot(y=\"Orbit\", x=\"FlightNumber\", hue=\"Class\", data=df, aspect=5)\n",
    "plt.xlabel(\"Flight Number\", fontsize=20)\n",
    "plt.ylabel(\"Orbit\", fontsize=20)\n",
    "plt.show()\n"
   ]
  },
  {
   "cell_type": "markdown",
   "id": "1f87cc7e-5121-482f-8c01-5deebc88a70d",
   "metadata": {},
   "source": [
    "### 🔸 Task 5: Payload Mass vs. Orbit"
   ]
  },
  {
   "cell_type": "code",
   "execution_count": null,
   "id": "14baf71a-57f7-45fd-b15a-447893f68b8a",
   "metadata": {},
   "outputs": [],
   "source": [
    "sns.catplot(y=\"Orbit\", x=\"PayloadMass\", hue=\"Class\", data=df, aspect=5)\n",
    "plt.xlabel(\"Payload Mass (kg)\", fontsize=20)\n",
    "plt.ylabel(\"Orbit\", fontsize=20)\n",
    "plt.show()\n"
   ]
  },
  {
   "cell_type": "markdown",
   "id": "abb13a7d-6823-49fb-aca2-586d35080fd5",
   "metadata": {},
   "source": [
    "### 🔸 Task 6: Success Rate by Year"
   ]
  },
  {
   "cell_type": "code",
   "execution_count": null,
   "id": "ea6118da-a075-4eca-86f3-499e63875ee8",
   "metadata": {},
   "outputs": [],
   "source": [
    "def Extract_year():\n",
    "    return [i.split(\"-\")[0] for i in df[\"Date\"]]\n",
    "\n",
    "df['Year'] = Extract_year()\n",
    "df_grouped = df.groupby('Year')['Class'].mean()\n",
    "\n",
    "df_grouped.plot(kind='line', marker='o')\n",
    "plt.xlabel(\"Year\")\n",
    "plt.ylabel(\"Success Rate\")\n",
    "plt.title(\"Launch Success Rate by Year\")\n",
    "plt.show()\n"
   ]
  },
  {
   "cell_type": "markdown",
   "id": "769fcb3f-bc57-4480-8c8d-955d2d7a001b",
   "metadata": {},
   "source": [
    "#### ⚙️ Feature Engineering"
   ]
  },
  {
   "cell_type": "code",
   "execution_count": null,
   "id": "00c5ba5a-7da6-4a91-a3ff-e2ee4f1822e3",
   "metadata": {},
   "outputs": [],
   "source": [
    "features = df[['FlightNumber', 'PayloadMass', 'Orbit', 'LaunchSite', 'Flights', \n",
    "               'GridFins', 'Reused', 'Legs', 'LandingPad', 'Block', 'ReusedCount', 'Serial']]\n"
   ]
  },
  {
   "cell_type": "markdown",
   "id": "22ce19cc-bb57-458a-8ad4-ec6375a38795",
   "metadata": {},
   "source": [
    "### 🔸 Task 7: Create Dummy Variables"
   ]
  },
  {
   "cell_type": "code",
   "execution_count": null,
   "id": "d96dfdc1-8052-47da-b378-0e22ed140292",
   "metadata": {},
   "outputs": [],
   "source": [
    "features_one_hot = pd.get_dummies(features, columns=['Orbit', 'LaunchSite', 'LandingPad', 'Serial'])\n",
    "features_one_hot.head()\n"
   ]
  },
  {
   "cell_type": "markdown",
   "id": "f8cb23ab-0c2b-455a-98f4-b6dbe4a70abc",
   "metadata": {},
   "source": [
    "### 🔸 Task 8: Cast All Numeric Columns to Float64"
   ]
  },
  {
   "cell_type": "code",
   "execution_count": null,
   "id": "d06c5962-45bb-43b0-99e5-80021625ed7e",
   "metadata": {},
   "outputs": [],
   "source": [
    "features_one_hot = features_one_hot.astype('float64')\n"
   ]
  },
  {
   "cell_type": "markdown",
   "id": "4b4093c7-ac2f-4bb5-82ce-b91ef0ae4bef",
   "metadata": {},
   "source": [
    "#### 💾 Save Final Dataset"
   ]
  },
  {
   "cell_type": "code",
   "execution_count": null,
   "id": "5dc61dbf-ca8c-4b72-ae17-a341c9a37d94",
   "metadata": {},
   "outputs": [],
   "source": [
    "features_one_hot.to_csv('dataset_part_3.csv', index=False)\n"
   ]
  },
  {
   "cell_type": "markdown",
   "id": "cae2fe82-de4b-42f9-bda3-e7239673af72",
   "metadata": {},
   "source": [
    "### ✅ Summary\n",
    "Performed detailed EDA using Seaborn and Matplotlib.\n",
    "\n",
    "Visualized relationships across payload, flight number, orbit, and launch site.\n",
    "\n",
    "Engineered features for machine learning models.\n",
    "\n",
    "Exported the processed dataset for future prediction tasks."
   ]
  },
  {
   "cell_type": "markdown",
   "id": "e3cf82dc-ddd2-4c6c-8edc-d6e8a85b4baf",
   "metadata": {},
   "source": [
    "#### Complete the Lab 4: Exploring and Preparing Data<br/>\n",
    "#### Md. Anwar Hossain"
   ]
  },
  {
   "cell_type": "code",
   "execution_count": null,
   "id": "cb954239-a4dd-4f64-98d3-7af9ef551459",
   "metadata": {},
   "outputs": [],
   "source": []
  }
 ],
 "metadata": {
  "kernelspec": {
   "display_name": "Python 3 (ipykernel)",
   "language": "python",
   "name": "python3"
  },
  "language_info": {
   "codemirror_mode": {
    "name": "ipython",
    "version": 3
   },
   "file_extension": ".py",
   "mimetype": "text/x-python",
   "name": "python",
   "nbconvert_exporter": "python",
   "pygments_lexer": "ipython3",
   "version": "3.13.5"
  }
 },
 "nbformat": 4,
 "nbformat_minor": 5
}
