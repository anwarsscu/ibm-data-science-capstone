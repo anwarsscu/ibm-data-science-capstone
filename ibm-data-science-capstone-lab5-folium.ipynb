{
 "cells": [
  {
   "cell_type": "markdown",
   "id": "a8acc5c5-fec8-4f7a-8dc2-5703d122e972",
   "metadata": {},
   "source": [
    "# IBM Data Science Capstone Project  \n",
    "## Lab 5: Interactive Visual Analytics with Folium\n",
    "\n",
    "### Project Title: SpaceX Falcon 9 First Stage Landing Prediction  \n",
    "**Assignment**: Interactive Visual Analytics with Folium\n"
   ]
  },
  {
   "cell_type": "markdown",
   "id": "51b43140-c213-429f-8a18-f27b767b5adf",
   "metadata": {},
   "source": [
    "## Objective\n",
    "\n",
    "In this lab, we aim to explore how geographic factors may influence Falcon 9 first stage landing success rates. This includes:\n",
    "\n",
    "- Visualizing the location of launch sites\n",
    "- Annotating successful and failed launches\n",
    "- Measuring distances from launch sites to nearby features (coastlines, railways, etc.)\n",
    "\n",
    "This helps uncover geographic patterns that may influence rocket landing success.\n"
   ]
  },
  {
   "cell_type": "markdown",
   "id": "e73d7e79-c42b-46c7-9508-9ebd072d4d53",
   "metadata": {},
   "source": [
    "## Setup Environment"
   ]
  },
  {
   "cell_type": "code",
   "execution_count": null,
   "id": "b3f1a523-33ac-41f2-a7e6-d8332654f8a2",
   "metadata": {},
   "outputs": [],
   "source": [
    "import piplite\n",
    "await piplite.install(['folium'])\n",
    "await piplite.install(['pandas'])\n",
    "\n",
    "import folium\n",
    "import pandas as pd\n",
    "from folium.plugins import MarkerCluster, MousePosition\n",
    "from folium.features import DivIcon\n",
    "from math import sin, cos, sqrt, atan2, radians"
   ]
  },
  {
   "cell_type": "markdown",
   "id": "c6a72bc6-9a31-4d04-b40b-e5bed0828bee",
   "metadata": {},
   "source": [
    "## Load Dataset"
   ]
  },
  {
   "cell_type": "code",
   "execution_count": null,
   "id": "ca9bb403-b8c2-420d-a255-26f265f243e4",
   "metadata": {},
   "outputs": [],
   "source": [
    "from js import fetch\n",
    "import io\n",
    "\n",
    "URL = 'https://cf-courses-data.s3.us.cloud-object-storage.appdomain.cloud/IBM-DS0321EN-SkillsNetwork/datasets/spacex_launch_geo.csv'\n",
    "resp = await fetch(URL)\n",
    "spacex_csv_file = io.BytesIO((await resp.arrayBuffer()).to_py())\n",
    "spacex_df = pd.read_csv(spacex_csv_file)"
   ]
  },
  {
   "cell_type": "markdown",
   "id": "3d3f304a-50dd-4e7b-8869-c44be1ad497f",
   "metadata": {},
   "source": [
    "## Clean and filter"
   ]
  },
  {
   "cell_type": "code",
   "execution_count": null,
   "id": "35d71be1-f709-4fa6-ad76-02d3d9acdc5b",
   "metadata": {},
   "outputs": [],
   "source": [
    "spacex_df = spacex_df[['Launch Site', 'Lat', 'Long', 'class']]\n",
    "launch_sites_df = spacex_df.groupby(['Launch Site'], as_index=False).first()[['Launch Site', 'Lat', 'Long']]"
   ]
  },
  {
   "cell_type": "markdown",
   "id": "2eac9b87-ddc2-4349-af04-26c8787e75d1",
   "metadata": {},
   "source": [
    "## 🗺️ Task 1: Mark All Launch Sites"
   ]
  },
  {
   "cell_type": "code",
   "execution_count": null,
   "id": "5051caa8-086a-4437-a770-945019e6e73e",
   "metadata": {},
   "outputs": [],
   "source": [
    "nasa_coordinate = [29.559684888503615, -95.0830971930759]\n",
    "site_map = folium.Map(location=nasa_coordinate, zoom_start=5)\n",
    "\n",
    "# Add circles and markers for each site\n",
    "for index, row in launch_sites_df.iterrows():\n",
    "    coord = [row['Lat'], row['Long']]\n",
    "    folium.Circle(coord, radius=1000, color='#000000', fill=True).add_child(\n",
    "        folium.Popup(row['Launch Site'])).add_to(site_map)\n",
    "    folium.map.Marker(\n",
    "        coord,\n",
    "        icon=DivIcon(icon_size=(20,20), icon_anchor=(0,0),\n",
    "            html=f'<div style=\"font-size: 12; color:#d35400;\"><b>{row[\"Launch Site\"]}</b></div>')\n",
    "    ).add_to(site_map)"
   ]
  },
  {
   "cell_type": "markdown",
   "id": "84be7caa-6865-4bdf-b017-4031875b9196",
   "metadata": {},
   "source": [
    "## 🟢🔴 Task 2: Mark Success/Failed Launches"
   ]
  },
  {
   "cell_type": "code",
   "execution_count": null,
   "id": "0083d9ea-9384-460c-a89e-49ba64f262da",
   "metadata": {},
   "outputs": [],
   "source": [
    "marker_cluster = MarkerCluster()\n",
    "\n",
    "# Assign colors\n",
    "spacex_df['marker_color'] = spacex_df['class'].apply(lambda x: 'green' if x == 1 else 'red')\n",
    "\n",
    "for index, record in spacex_df.iterrows():\n",
    "    coord = [record['Lat'], record['Long']]\n",
    "    marker = folium.Marker(\n",
    "        location=coord,\n",
    "        icon=folium.Icon(color=record['marker_color']),\n",
    "        popup=f\"{record['Launch Site']} - {'Success' if record['class']==1 else 'Fail'}\"\n",
    "    )\n",
    "    marker_cluster.add_child(marker)\n",
    "\n",
    "site_map.add_child(marker_cluster)"
   ]
  },
  {
   "cell_type": "markdown",
   "id": "1cf2b233-bb09-49c5-8424-2b6345ebb801",
   "metadata": {},
   "source": [
    "## Add MousePosition"
   ]
  },
  {
   "cell_type": "code",
   "execution_count": null,
   "id": "adb6f1f2-6cd3-4b85-8f28-7f3e31011199",
   "metadata": {},
   "outputs": [],
   "source": [
    "formatter = \"function(num) {return L.Util.formatNum(num, 5);};\"\n",
    "mouse_position = MousePosition(\n",
    "    position='topright',\n",
    "    separator=' Long: ',\n",
    "    empty_string='NaN',\n",
    "    lng_first=False,\n",
    "    num_digits=20,\n",
    "    prefix='Lat:',\n",
    "    lat_formatter=formatter,\n",
    "    lng_formatter=formatter,\n",
    ")\n",
    "site_map.add_child(mouse_position)"
   ]
  },
  {
   "cell_type": "markdown",
   "id": "20ad6e90-ca71-4dcf-aa89-b027695a2a6c",
   "metadata": {},
   "source": [
    "## 📏 Task 3: Distance to Proximities"
   ]
  },
  {
   "cell_type": "code",
   "execution_count": null,
   "id": "9e413aeb-9761-4a4a-99dc-299a14f71a68",
   "metadata": {},
   "outputs": [],
   "source": [
    "def calculate_distance(lat1, lon1, lat2, lon2):\n",
    "    R = 6373.0\n",
    "    lat1, lon1, lat2, lon2 = map(radians, [lat1, lon1, lat2, lon2])\n",
    "    dlon = lon2 - lon1\n",
    "    dlat = lat2 - lat1\n",
    "    a = sin(dlat/2)**2 + cos(lat1)*cos(lat2)*sin(dlon/2)**2\n",
    "    c = 2 * atan2(sqrt(a), sqrt(1 - a))\n",
    "    return R * c\n",
    "\n",
    "    # Example: CCAFS LC-40 to nearest coast\n",
    "\n",
    "    launch_site = launch_sites_df[launch_sites_df['Launch Site'] == 'CCAFS LC-40'].iloc[0]\n",
    "site_lat, site_lon = launch_site['Lat'], launch_site['Long']\n",
    "coast_lat, coast_lon = 28.56367, -80.57163  # Retrieved manually\n",
    "\n",
    "distance = calculate_distance(site_lat, site_lon, coast_lat, coast_lon)\n",
    "\n",
    "folium.Marker(\n",
    "    [coast_lat, coast_lon],\n",
    "    icon=DivIcon(icon_size=(20,20), icon_anchor=(0,0),\n",
    "        html=f'<div style=\"font-size: 12; color:#d35400;\"><b>{distance:.2f} KM</b></div>')\n",
    ").add_to(site_map)\n",
    "\n",
    "folium.PolyLine(\n",
    "    locations=[[site_lat, site_lon], [coast_lat, coast_lon]], weight=2\n",
    ").add_to(site_map)\n"
   ]
  },
  {
   "cell_type": "markdown",
   "id": "823ebf5c-ad3e-4f5e-b9a2-4a9684d9af29",
   "metadata": {},
   "source": [
    "####  Optional: Repeat for other features (railway, highway, city)"
   ]
  },
  {
   "cell_type": "markdown",
   "id": "044b8434-8b30-4643-ac71-670ba0d49a54",
   "metadata": {},
   "source": [
    "### # Show the final map\n",
    "site_map\n"
   ]
  },
  {
   "cell_type": "code",
   "execution_count": null,
   "id": "9e6d8a2c-a0e2-45cd-bff1-dea9a67aea1c",
   "metadata": {},
   "outputs": [],
   "source": []
  },
  {
   "cell_type": "code",
   "execution_count": null,
   "id": "c6f3a3e8-4c6a-4141-9832-f3950102a9fe",
   "metadata": {},
   "outputs": [],
   "source": []
  },
  {
   "cell_type": "markdown",
   "id": "37c2e36a-9d3c-49db-8985-a1ec2699b145",
   "metadata": {},
   "source": [
    "## ✅ Summary\n",
    "Visualized launch sites and outcomes interactively\n",
    "\n",
    "Calculated geographic proximities\n",
    "\n",
    "Identified patterns between location and launch success\n",
    "\n"
   ]
  },
  {
   "cell_type": "markdown",
   "id": "407942e4-d3e6-40ff-a36b-b5b46bd8c302",
   "metadata": {},
   "source": [
    "### Complete the Lab 5: Interactive Visual Analytics with Folium\n",
    "Md. Anwar Hossain"
   ]
  },
  {
   "cell_type": "code",
   "execution_count": null,
   "id": "ee2ed424-27d5-46c5-9247-92331b2828ec",
   "metadata": {},
   "outputs": [],
   "source": []
  }
 ],
 "metadata": {
  "kernelspec": {
   "display_name": "Python 3 (ipykernel)",
   "language": "python",
   "name": "python3"
  },
  "language_info": {
   "codemirror_mode": {
    "name": "ipython",
    "version": 3
   },
   "file_extension": ".py",
   "mimetype": "text/x-python",
   "name": "python",
   "nbconvert_exporter": "python",
   "pygments_lexer": "ipython3",
   "version": "3.13.5"
  }
 },
 "nbformat": 4,
 "nbformat_minor": 5
}
