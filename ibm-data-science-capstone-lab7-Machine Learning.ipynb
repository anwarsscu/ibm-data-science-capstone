{
 "cells": [
  {
   "cell_type": "markdown",
   "id": "06e1322f-a6fc-4768-b7fd-5acfda1ea55a",
   "metadata": {},
   "source": [
    "# IBM Data Science Capstone Project\n",
    "## Lab 7: Machine Learning Prediction lab\n",
    "### Project Title: SpaceX Falcon 9 First Stage Landing Prediction\n",
    "Objective: Build and evaluate multiple ML models to predict if the Falcon 9 first stage will land successfully."
   ]
  },
  {
   "cell_type": "code",
   "execution_count": null,
   "id": "d25517f5-7da1-4e82-b6a6-8c98bc920f99",
   "metadata": {},
   "outputs": [],
   "source": [
    "# ------------------------------------------\n",
    "# INSTALL LIBRARIES (LOCAL JUPYTER ONLY)\n",
    "# ------------------------------------------\n",
    "# If you are running locally, uncomment the below lines:\n",
    "# !pip install numpy pandas seaborn matplotlib scikit-learn\n",
    "\n",
    "# If running on IBM Skills Network Labs, you may need:\n",
    "# import piplite\n",
    "# await piplite.install(['numpy', 'pandas', 'seaborn', 'matplotlib', 'scikit-learn'])\n"
   ]
  },
  {
   "cell_type": "markdown",
   "id": "f73e1ca9-db28-498c-afa8-a386bff1409d",
   "metadata": {},
   "source": [
    "## IMPORT LIBRARIES"
   ]
  },
  {
   "cell_type": "code",
   "execution_count": null,
   "id": "f72ca626-0952-4731-8c6c-f9cbb6dd41a1",
   "metadata": {},
   "outputs": [],
   "source": [
    "import pandas as pd\n",
    "import numpy as np\n",
    "import matplotlib.pyplot as plt\n",
    "import seaborn as sns\n",
    "\n",
    "from sklearn import preprocessing\n",
    "from sklearn.model_selection import train_test_split, GridSearchCV\n",
    "from sklearn.linear_model import LogisticRegression\n",
    "from sklearn.svm import SVC\n",
    "from sklearn.tree import DecisionTreeClassifier\n",
    "from sklearn.neighbors import KNeighborsClassifier"
   ]
  },
  {
   "cell_type": "markdown",
   "id": "85466620-aef8-468b-9ac6-40597c4359c7",
   "metadata": {},
   "source": [
    "## FUNCTION TO PLOT CONFUSION MATRIX"
   ]
  },
  {
   "cell_type": "code",
   "execution_count": null,
   "id": "915ac361-ad81-4f47-98ef-e44015ce140b",
   "metadata": {},
   "outputs": [],
   "source": [
    "def plot_confusion_matrix(y_true, y_pred):\n",
    "    \"\"\"Plots a confusion matrix using seaborn.\"\"\"\n",
    "    from sklearn.metrics import confusion_matrix\n",
    "\n",
    "    cm = confusion_matrix(y_true, y_pred)\n",
    "    ax = plt.subplot()\n",
    "    sns.heatmap(cm, annot=True, fmt='d', ax=ax, cmap=\"Blues\")\n",
    "\n",
    "    ax.set_xlabel('Predicted labels')\n",
    "    ax.set_ylabel('True labels')\n",
    "    ax.set_title('Confusion Matrix')\n",
    "    ax.xaxis.set_ticklabels(['Did not land', 'Landed'])\n",
    "    ax.yaxis.set_ticklabels(['Did not land', 'Landed'])\n",
    "    plt.show()"
   ]
  },
  {
   "cell_type": "markdown",
   "id": "706e9d97-832b-473f-8494-c6ca3c4e1a65",
   "metadata": {},
   "source": [
    "## LOAD DATA"
   ]
  },
  {
   "cell_type": "code",
   "execution_count": null,
   "id": "88b6a3ab-6464-4203-8c26-b30c93cbf786",
   "metadata": {},
   "outputs": [],
   "source": [
    "from js import fetch\n",
    "import io\n",
    "\n",
    "# Load dataset_part_2.csv\n",
    "URL1 = \"https://cf-courses-data.s3.us.cloud-object-storage.appdomain.cloud/IBM-DS0321EN-SkillsNetwork/datasets/dataset_part_2.csv\"\n",
    "resp1 = await fetch(URL1)\n",
    "text1 = io.BytesIO((await resp1.arrayBuffer()).to_py())\n",
    "data = pd.read_csv(text1)\n",
    "\n",
    "# Load dataset_part_3.csv\n",
    "URL2 = \"https://cf-courses-data.s3.us.cloud-object-storage.appdomain.cloud/IBM-DS0321EN-SkillsNetwork/datasets/dataset_part_3.csv\"\n",
    "resp2 = await fetch(URL2)\n",
    "text2 = io.BytesIO((await resp2.arrayBuffer()).to_py())\n",
    "X = pd.read_csv(text2)\n",
    "\n",
    "data.head(), X.head()\n"
   ]
  },
  {
   "cell_type": "markdown",
   "id": "a62a9938-dacc-4b94-bd4d-8a382a0cee5b",
   "metadata": {},
   "source": [
    "## TASK 1 – Create target variable Y"
   ]
  },
  {
   "cell_type": "code",
   "execution_count": null,
   "id": "aabd85e3-794f-4532-90a5-6809733ddf80",
   "metadata": {},
   "outputs": [],
   "source": [
    "Y = data['Class'].to_numpy()\n",
    "Y[:10]\n"
   ]
  },
  {
   "cell_type": "markdown",
   "id": "46a464d0-6c72-4238-b5de-e3102389b64a",
   "metadata": {},
   "source": [
    "## TASK 2 – Standardize X"
   ]
  },
  {
   "cell_type": "code",
   "execution_count": null,
   "id": "942d933e-5c98-48a9-8390-24ade3ab6c97",
   "metadata": {},
   "outputs": [],
   "source": [
    "transform = preprocessing.StandardScaler()\n",
    "X = transform.fit_transform(X)"
   ]
  },
  {
   "cell_type": "markdown",
   "id": "f157b0a1-df97-48ae-8e5d-ab2b12a9deb1",
   "metadata": {},
   "source": [
    "## TASK 3 – Train/test split"
   ]
  },
  {
   "cell_type": "code",
   "execution_count": null,
   "id": "d76c55f2-4a6a-4319-b51f-b3b195086aba",
   "metadata": {},
   "outputs": [],
   "source": [
    "X_train, X_test, Y_train, Y_test = train_test_split(\n",
    "    X, Y, test_size=0.2, random_state=2\n",
    ")\n",
    "\n",
    "Y_test.shape\n",
    "\n"
   ]
  },
  {
   "cell_type": "markdown",
   "id": "2b94555c-1f7b-495f-8443-0144dff9f8e3",
   "metadata": {},
   "source": [
    "## TASK 4 – Logistic Regression"
   ]
  },
  {
   "cell_type": "code",
   "execution_count": null,
   "id": "796a2fb6-596b-4519-b050-b7ca06bcfe31",
   "metadata": {},
   "outputs": [],
   "source": [
    "parameters = {\"C\":[0.01,0.1,1], \"penalty\":[\"l2\"], \"solver\":[\"lbfgs\"]}\n",
    "lr = LogisticRegression()\n",
    "\n",
    "logreg_cv = GridSearchCV(lr, parameters, cv=10)\n",
    "logreg_cv.fit(X_train, Y_train)\n",
    "\n",
    "print(\"Tuned hyperparameters (best parameters):\", logreg_cv.best_params_)\n",
    "print(\"Accuracy:\", logreg_cv.best_score_)\n",
    "\n"
   ]
  },
  {
   "cell_type": "markdown",
   "id": "85d69ba8-12b4-4f4c-be18-2ac7fd91e5b1",
   "metadata": {},
   "source": [
    "## TASK 5 – Logistic Regression test accuracy"
   ]
  },
  {
   "cell_type": "code",
   "execution_count": null,
   "id": "39ca2134-13fd-411b-9a3a-6167df635a11",
   "metadata": {},
   "outputs": [],
   "source": [
    "print(\"Test Accuracy:\", logreg_cv.score(X_test, Y_test))\n",
    "yhat = logreg_cv.predict(X_test)\n",
    "plot_confusion_matrix(Y_test, yhat)\n"
   ]
  },
  {
   "cell_type": "markdown",
   "id": "23817b4f-5fb6-4b8f-bb47-84c5a591aec9",
   "metadata": {},
   "source": [
    "## TASK 6 – Support Vector Machine"
   ]
  },
  {
   "cell_type": "code",
   "execution_count": null,
   "id": "17d03928-5df8-4e94-9cfc-22c9c9d4be98",
   "metadata": {},
   "outputs": [],
   "source": [
    "parameters = {\n",
    "    'kernel': ('linear', 'rbf', 'poly', 'sigmoid'),\n",
    "    'C': np.logspace(-3, 3, 5),\n",
    "    'gamma': np.logspace(-3, 3, 5)\n",
    "}\n",
    "svm = SVC()\n",
    "\n",
    "svm_cv = GridSearchCV(svm, parameters, cv=10)\n",
    "svm_cv.fit(X_train, Y_train)\n",
    "\n",
    "print(\"Tuned hyperparameters (best parameters):\", svm_cv.best_params_)\n",
    "print(\"Accuracy:\", svm_cv.best_score_)\n"
   ]
  },
  {
   "cell_type": "markdown",
   "id": "7d276e33-a843-49e5-998d-ab3d59341e90",
   "metadata": {},
   "source": [
    "## TASK 7 – SVM test accuracy"
   ]
  },
  {
   "cell_type": "code",
   "execution_count": null,
   "id": "68f2d42a-0815-49ea-92a0-26b8490a5a36",
   "metadata": {},
   "outputs": [],
   "source": [
    "print(\"Test Accuracy:\", svm_cv.score(X_test, Y_test))\n",
    "yhat = svm_cv.predict(X_test)\n",
    "plot_confusion_matrix(Y_test, yhat)\n"
   ]
  },
  {
   "cell_type": "markdown",
   "id": "51662820-778a-4585-be48-2756273f6329",
   "metadata": {},
   "source": [
    "## TASK 8 – Decision Tree"
   ]
  },
  {
   "cell_type": "code",
   "execution_count": null,
   "id": "b82eb24b-6e91-4d7a-9426-e0a73a66fcda",
   "metadata": {},
   "outputs": [],
   "source": [
    "parameters = {\n",
    "    'criterion': ['gini', 'entropy'],\n",
    "    'splitter': ['best', 'random'],\n",
    "    'max_depth': [2*n for n in range(1,10)],\n",
    "    'max_features': ['auto', 'sqrt'],\n",
    "    'min_samples_leaf': [1, 2, 4],\n",
    "    'min_samples_split': [2, 5, 10]\n",
    "}\n",
    "\n",
    "tree = DecisionTreeClassifier()\n",
    "tree_cv = GridSearchCV(tree, parameters, cv=10)\n",
    "tree_cv.fit(X_train, Y_train)\n",
    "\n",
    "print(\"Tuned hyperparameters (best parameters):\", tree_cv.best_params_)\n",
    "print(\"Accuracy:\", tree_cv.best_score_)\n",
    "\n"
   ]
  },
  {
   "cell_type": "markdown",
   "id": "d966cbfc-bd66-45c3-8739-67390cc44b76",
   "metadata": {},
   "source": [
    "## TASK 9 – Decision Tree test accuracy\n"
   ]
  },
  {
   "cell_type": "code",
   "execution_count": null,
   "id": "cad2f0fe-0b41-442a-b45f-e919445244be",
   "metadata": {},
   "outputs": [],
   "source": [
    "print(\"Test Accuracy:\", tree_cv.score(X_test, Y_test))\n",
    "yhat = tree_cv.predict(X_test)\n",
    "plot_confusion_matrix(Y_test, yhat)\n"
   ]
  },
  {
   "cell_type": "markdown",
   "id": "ae06ed30-142a-4a5a-93c1-0af263686aac",
   "metadata": {},
   "source": [
    "## TASK 10 – K Nearest Neighbors"
   ]
  },
  {
   "cell_type": "code",
   "execution_count": null,
   "id": "1c14056d-6051-452f-9a80-41e34c44bb0a",
   "metadata": {},
   "outputs": [],
   "source": [
    "parameters = {\n",
    "    'n_neighbors': [1,2,3,4,5,6,7,8,9,10],\n",
    "    'algorithm': ['auto', 'ball_tree', 'kd_tree', 'brute'],\n",
    "    'p': [1, 2]\n",
    "}\n",
    "\n",
    "KNN = KNeighborsClassifier()\n",
    "knn_cv = GridSearchCV(KNN, parameters, cv=10)\n",
    "knn_cv.fit(X_train, Y_train)\n",
    "\n",
    "print(\"Tuned hyperparameters (best parameters):\", knn_cv.best_params_)\n",
    "print(\"Accuracy:\", knn_cv.best_score_)\n"
   ]
  },
  {
   "cell_type": "markdown",
   "id": "b816fb9d-5155-4329-82a1-844d75f48b32",
   "metadata": {},
   "source": [
    "## ASK 11 – KNN test accuracy"
   ]
  },
  {
   "cell_type": "code",
   "execution_count": null,
   "id": "8a44db5f-f140-44dd-869f-93d94511b06b",
   "metadata": {},
   "outputs": [],
   "source": [
    "print(\"Test Accuracy:\", knn_cv.score(X_test, Y_test))\n",
    "yhat = knn_cv.predict(X_test)\n",
    "plot_confusion_matrix(Y_test, yhat)\n"
   ]
  },
  {
   "cell_type": "markdown",
   "id": "1bce3639-eaac-40a8-89bc-b379c9ad28b2",
   "metadata": {},
   "source": [
    "## TASK 12 – Best Model"
   ]
  },
  {
   "cell_type": "code",
   "execution_count": null,
   "id": "3b5df35f-6163-435f-912c-87801fda9674",
   "metadata": {},
   "outputs": [],
   "source": [
    "models = {\n",
    "    \"Logistic Regression\": logreg_cv.score(X_test, Y_test),\n",
    "    \"SVM\": svm_cv.score(X_test, Y_test),\n",
    "    \"Decision Tree\": tree_cv.score(X_test, Y_test),\n",
    "    \"KNN\": knn_cv.score(X_test, Y_test)\n",
    "}\n",
    "\n",
    "best_model = max(models, key=models.get)\n",
    "print(\"Best Model:\", best_model, \"with accuracy:\", models[best_model])\n",
    "\n"
   ]
  },
  {
   "cell_type": "markdown",
   "id": "52769dd5-92c5-408f-8e3d-b4704d0cff8f",
   "metadata": {},
   "source": [
    "## Complete The Lab 7 : Machine Learning Prediction lab\n",
    "Md. Anwar Hossain"
   ]
  },
  {
   "cell_type": "code",
   "execution_count": null,
   "id": "a2972559-bb14-4a5d-a22f-bb6465391823",
   "metadata": {},
   "outputs": [],
   "source": []
  }
 ],
 "metadata": {
  "kernelspec": {
   "display_name": "Python 3 (ipykernel)",
   "language": "python",
   "name": "python3"
  },
  "language_info": {
   "codemirror_mode": {
    "name": "ipython",
    "version": 3
   },
   "file_extension": ".py",
   "mimetype": "text/x-python",
   "name": "python",
   "nbconvert_exporter": "python",
   "pygments_lexer": "ipython3",
   "version": "3.13.5"
  }
 },
 "nbformat": 4,
 "nbformat_minor": 5
}
