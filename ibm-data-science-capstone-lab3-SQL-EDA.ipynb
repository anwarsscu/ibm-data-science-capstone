{
 "cells": [
  {
   "cell_type": "markdown",
   "id": "c3994757-ce29-4e17-b48f-58038e91ed7c",
   "metadata": {},
   "source": [
    "# IBM Data Science Capstone Project\n",
    "## Lab 3: SQL & Exploratory Data Analysis (EDA) – SpaceX Falcon 9 First Stage Landing Prediction"
   ]
  },
  {
   "cell_type": "markdown",
   "id": "d601e097-282d-4ade-bcc4-affd04b8f3ac",
   "metadata": {},
   "source": [
    "# Overview of the Dataset\n",
    "SpaceX has gained worldwide attention for a series of historic milestones. It is the only private company ever to return a spacecraft from low-Earth orbit, which it first accomplished in December 2010.</br>\n",
    "\n",
    "SpaceX advertises Falcon 9 rocket launches on its website with a cost of $62 million, whereas other providers cost upward of $165 million. Much of the savings come from the ability of SpaceX to reuse the first stage of the rocket.<br/>\n",
    "\n",
    "If we can predict whether the first stage will land successfully, we can estimate launch costs and help other companies make competitive bids against SpaceX.<br/>\n",
    "\n",
    "This dataset includes a record for each payload carried during a SpaceX mission into outer space."
   ]
  },
  {
   "cell_type": "markdown",
   "id": "a37f80c9-273f-4f76-8175-cb1762060ef6",
   "metadata": {},
   "source": [
    "#  Setup and Data Loading"
   ]
  },
  {
   "cell_type": "code",
   "execution_count": 23,
   "id": "a4a436e1-d292-4459-9fa5-e1b2de4eb437",
   "metadata": {},
   "outputs": [],
   "source": [
    "import pandas as pd\n",
    "\n",
    "# Load data from the source\n",
    "df = pd.read_csv(\"https://cf-courses-data.s3.us.cloud-object-storage.appdomain.cloud/IBM-DS0321EN-SkillsNetwork/labs/module_2/data/Spacex.csv\")\n"
   ]
  },
  {
   "cell_type": "markdown",
   "id": "8c2a3e8c-ff1c-4e3d-9d73-c299c44c4907",
   "metadata": {},
   "source": [
    "# Install Required Packages"
   ]
  },
  {
   "cell_type": "code",
   "execution_count": null,
   "id": "c76a0c71-b6a5-4b8f-82b6-69264c9d09c6",
   "metadata": {},
   "outputs": [],
   "source": [
    "!pip install ipython-sql\n",
    "!pip install ipython-sql prettytable"
   ]
  },
  {
   "cell_type": "markdown",
   "id": "67c54efb-8321-4145-9634-44103050c276",
   "metadata": {},
   "source": [
    "# Connect to the Database"
   ]
  },
  {
   "cell_type": "code",
   "execution_count": 4,
   "id": "fefcb10b-672c-4f6d-882a-57a65d14a55a",
   "metadata": {},
   "outputs": [],
   "source": [
    "import sqlite3\n",
    "import csv\n",
    "import prettytable\n",
    "prettytable.DEFAULT = 'DEFAULT'\n",
    "\n",
    "# Create database connection\n",
    "con = sqlite3.connect(\"my_data1.db\")\n",
    "cur = con.cursor()\n",
    "\n",
    "# Load SQL extension\n",
    "%load_ext sql\n",
    "\n",
    "# Connect to the database using SQL magic\n",
    "%sql sqlite:///my_data1.db\n"
   ]
  },
  {
   "cell_type": "markdown",
   "id": "fba2a5a4-528c-484e-b185-7f10e7ddf8a9",
   "metadata": {},
   "source": [
    "# Upload the DataFrame to SQLite"
   ]
  },
  {
   "cell_type": "code",
   "execution_count": 5,
   "id": "e5563149-6225-447c-9781-2c25bc940117",
   "metadata": {},
   "outputs": [
    {
     "data": {
      "text/plain": [
       "101"
      ]
     },
     "execution_count": 5,
     "metadata": {},
     "output_type": "execute_result"
    }
   ],
   "source": [
    "# Upload dataframe to SQLite\n",
    "df.to_sql(\"SPACEXTBL\", con, if_exists='replace', index=False, method=\"multi\")\n"
   ]
  },
  {
   "cell_type": "markdown",
   "id": "9b300359-afaf-4c8b-8aa1-c53330ddfc2d",
   "metadata": {},
   "source": [
    "## Clean Up the Table (Remove Blank Dates)"
   ]
  },
  {
   "cell_type": "code",
   "execution_count": null,
   "id": "a29e8c7a-09ce-4150-980b-b19b34157fe8",
   "metadata": {},
   "outputs": [],
   "source": [
    "%%sql\n",
    "\n",
    "-- Drop existing table if it exists\n",
    "DROP TABLE IF EXISTS SPACEXTABLE;\n",
    "\n",
    "-- Create a new table without blank dates\n",
    "CREATE TABLE SPACEXTABLE AS \n",
    "SELECT * FROM SPACEXTBL \n",
    "WHERE Date IS NOT NULL;\n"
   ]
  },
  {
   "cell_type": "markdown",
   "id": "e813a829-1404-4191-8ff2-b407930f5726",
   "metadata": {},
   "source": [
    "## SQL Tasks\n",
    "### Task 1: Display the names of the unique launch sites"
   ]
  },
  {
   "cell_type": "code",
   "execution_count": null,
   "id": "42c06e75-3a11-44a6-a902-90586dcc2cc2",
   "metadata": {},
   "outputs": [],
   "source": [
    "%%sql sqlite:///my_data1.db\n",
    "\n",
    "SELECT DISTINCT Launch_Site \n",
    "FROM SPACEXTABLE;\n"
   ]
  },
  {
   "cell_type": "markdown",
   "id": "bc3dfc59-f503-4129-aeab-fa88d282c35a",
   "metadata": {},
   "source": [
    "### Task 2: Display 5 records where launch sites begin with 'CCA'"
   ]
  },
  {
   "cell_type": "code",
   "execution_count": null,
   "id": "0cc9c0ac-3a9a-4c00-bb41-8cb72ffc20bd",
   "metadata": {},
   "outputs": [],
   "source": [
    "%%sql sqlite:///my_data1.db\n",
    "\n",
    "SELECT * \n",
    "FROM SPACEXTABLE \n",
    "WHERE Launch_Site LIKE 'CCA%' \n",
    "LIMIT 5;\n"
   ]
  },
  {
   "cell_type": "markdown",
   "id": "073a03f5-3d25-480b-a544-742ab9a67fc9",
   "metadata": {},
   "source": [
    "### Task 3: Display the total payload mass carried by boosters launched by NASA (CRS)"
   ]
  },
  {
   "cell_type": "code",
   "execution_count": null,
   "id": "7b3b2570-e307-4c60-9ad5-63ed17ca387f",
   "metadata": {},
   "outputs": [],
   "source": [
    "%%sql sqlite:///my_data1.db\n",
    "SELECT SUM(PAYLOAD_MASS__KG_) AS Total_Payload_Mass \n",
    "FROM SPACEXTABLE \n",
    "WHERE Customer LIKE '%NASA (CRS)%';\n"
   ]
  },
  {
   "cell_type": "markdown",
   "id": "bf8bf2ce-3ac0-4aba-94f3-f4af1cc36112",
   "metadata": {},
   "source": [
    "### Task 4: Display average payload mass carried by booster version F9 v1.1"
   ]
  },
  {
   "cell_type": "code",
   "execution_count": null,
   "id": "419989e2-ab65-4062-abdf-9cdabb9f6b31",
   "metadata": {},
   "outputs": [],
   "source": [
    "%%sql sqlite:///my_data1.db\n",
    "SELECT AVG(PAYLOAD_MASS__KG_) AS Average_Payload \n",
    "FROM SPACEXTABLE \n",
    "WHERE Booster_Version = 'F9 v1.1';\n"
   ]
  },
  {
   "cell_type": "markdown",
   "id": "7cdd4ec4-7c12-41af-94f2-193f60211539",
   "metadata": {},
   "source": [
    "### Task 5: List the date when the first successful ground pad landing was achieved"
   ]
  },
  {
   "cell_type": "code",
   "execution_count": null,
   "id": "4384be6f-8f7e-4385-aa63-fa2da22299d1",
   "metadata": {},
   "outputs": [],
   "source": [
    "%%sql sqlite:///my_data1.db\n",
    "SELECT MIN(Date) AS First_Successful_Landing \n",
    "FROM SPACEXTABLE \n",
    "WHERE \"Landing_Outcome\" = 'Success (ground pad)';\n"
   ]
  },
  {
   "cell_type": "markdown",
   "id": "58b69b76-233d-41c4-a6f6-20a855b0eeca",
   "metadata": {},
   "source": [
    "### Task 6: List booster names that successfully landed on a drone ship and had payload between 4000 and 6000"
   ]
  },
  {
   "cell_type": "code",
   "execution_count": null,
   "id": "07d945e9-89f7-4d27-87a4-982d74b8131d",
   "metadata": {},
   "outputs": [],
   "source": [
    "%%sql sqlite:///my_data1.db\n",
    "SELECT Booster_Version \n",
    "FROM SPACEXTABLE \n",
    "WHERE \"Landing_Outcome\" = 'Success (drone ship)' \n",
    "  AND PAYLOAD_MASS__KG_ BETWEEN 4000 AND 6000;\n"
   ]
  },
  {
   "cell_type": "markdown",
   "id": "78a04491-c1a7-40ba-aae1-f66808afb103",
   "metadata": {},
   "source": [
    "###  Task 7: Total number of successful and failed mission outcomes"
   ]
  },
  {
   "cell_type": "code",
   "execution_count": null,
   "id": "50c08879-bacd-403f-ab4d-3eadf04f9f78",
   "metadata": {},
   "outputs": [],
   "source": [
    "%%sql sqlite:///my_data1.db\n",
    "SELECT \"Landing_Outcome\", COUNT(*) AS Count \n",
    "FROM SPACEXTABLE \n",
    "GROUP BY \"Landing_Outcome\";\n"
   ]
  },
  {
   "cell_type": "markdown",
   "id": "b0c338c1-306a-4864-82cd-89dadf053743",
   "metadata": {},
   "source": [
    "### Task 8: Booster versions that carried the maximum payload mass"
   ]
  },
  {
   "cell_type": "code",
   "execution_count": null,
   "id": "488dc693-9411-4446-a283-62674ee1edda",
   "metadata": {},
   "outputs": [],
   "source": [
    "%%sql sqlite:///my_data1.db\n",
    "SELECT Booster_Version, PAYLOAD_MASS__KG_ \n",
    "FROM SPACEXTABLE \n",
    "WHERE PAYLOAD_MASS__KG_ = (\n",
    "  SELECT MAX(PAYLOAD_MASS__KG_) FROM SPACEXTABLE\n",
    ");\n"
   ]
  },
  {
   "cell_type": "markdown",
   "id": "c28e1678-9668-4d85-abfe-c8d7573d0ec3",
   "metadata": {},
   "source": [
    "###  Task 9: Show month, failed drone ship landings, booster version, and launch site in 2015"
   ]
  },
  {
   "cell_type": "code",
   "execution_count": null,
   "id": "57bade33-443a-4841-a174-b8a6ef3d37c4",
   "metadata": {},
   "outputs": [],
   "source": [
    "%%sql sqlite:///my_data1.db\n",
    "SELECT substr(Date, 6, 2) AS Month, \n",
    "       \"Landing_Outcome\", \n",
    "       Booster_Version, \n",
    "       Launch_Site \n",
    "FROM SPACEXTABLE \n",
    "WHERE \"Landing_Outcome\" = 'Failure (drone ship)' \n",
    "  AND substr(Date, 1, 4) = '2015';\n"
   ]
  },
  {
   "cell_type": "markdown",
   "id": "8b06c894-730e-41e8-a8b5-9b6812325f4a",
   "metadata": {},
   "source": [
    "### Task 10: Rank count of landing outcomes (descending) between 2010-06-04 and 2017-03-20"
   ]
  },
  {
   "cell_type": "code",
   "execution_count": null,
   "id": "5e1269e2-5eef-4372-a6ed-b9e88aa57975",
   "metadata": {},
   "outputs": [],
   "source": [
    "%%sql sqlite:///my_data1.db\n",
    "SELECT \"Landing_Outcome\", COUNT(*) AS Outcome_Count \n",
    "FROM SPACEXTABLE \n",
    "WHERE Date BETWEEN '2010-06-04' AND '2017-03-20' \n",
    "GROUP BY \"Landing_Outcome\" \n",
    "ORDER BY Outcome_Count DESC;\n"
   ]
  },
  {
   "cell_type": "markdown",
   "id": "07806528-8bf6-42cd-bb4c-2feecde70ade",
   "metadata": {},
   "source": [
    "#### Complete Lab 3: SQL & Exploratory Data Analysis (EDA) – SpaceX Falcon 9 First Stage Landing Prediction\n",
    "Md. Anwar Hossain"
   ]
  },
  {
   "cell_type": "code",
   "execution_count": null,
   "id": "944e55bd-f1b6-4dcd-95e3-0bafceba3ce0",
   "metadata": {},
   "outputs": [],
   "source": []
  }
 ],
 "metadata": {
  "kernelspec": {
   "display_name": "Python 3 (ipykernel)",
   "language": "python",
   "name": "python3"
  },
  "language_info": {
   "codemirror_mode": {
    "name": "ipython",
    "version": 3
   },
   "file_extension": ".py",
   "mimetype": "text/x-python",
   "name": "python",
   "nbconvert_exporter": "python",
   "pygments_lexer": "ipython3",
   "version": "3.13.5"
  }
 },
 "nbformat": 4,
 "nbformat_minor": 5
}
