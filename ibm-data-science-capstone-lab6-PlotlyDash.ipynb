{
 "cells": [
  {
   "cell_type": "markdown",
   "id": "dc7b23c1-9ab9-4a04-9357-eadac7a96c8d",
   "metadata": {},
   "source": [
    "# IBM Data Science Capstone Project  \n",
    "## Lab 6: Interactive Dashboard with Plotly Dash\n",
    "### Project Title: SpaceX Falcon 9 First Stage Landing Prediction  \n",
    "#### **Assignment**: Interactive Dashboard with Plotly Dash\n"
   ]
  },
  {
   "cell_type": "markdown",
   "id": "2188b0ad-0f81-4bd1-8699-c2a1a5684a72",
   "metadata": {},
   "source": [
    "## TASK: Setup Environment"
   ]
  },
  {
   "cell_type": "code",
   "execution_count": null,
   "id": "41542156-4adf-4728-9f8a-8d6ba0530dd4",
   "metadata": {},
   "outputs": [],
   "source": [
    "!pip install pandas dash plotly\n",
    "import pandas as pd\n",
    "import dash\n",
    "import dash_html_components as html\n",
    "import dash_core_components as dcc\n",
    "from dash.dependencies import Input, Output\n",
    "import plotly.express as px"
   ]
  },
  {
   "cell_type": "markdown",
   "id": "250a1430-e354-43b7-9357-a1c53ac9fdeb",
   "metadata": {},
   "source": [
    "## TASK: Read SpaceX dataset"
   ]
  },
  {
   "cell_type": "code",
   "execution_count": null,
   "id": "3b31b19b-5414-469a-b74a-67e3d5b82bd0",
   "metadata": {},
   "outputs": [],
   "source": [
    "spacex_df = pd.read_csv(\"spacex_launch_dash.csv\")\n",
    "max_payload = spacex_df['Payload Mass (kg)'].max()\n",
    "min_payload = spacex_df['Payload Mass (kg)'].min()"
   ]
  },
  {
   "cell_type": "markdown",
   "id": "b9351179-56ba-47d0-a7d8-25b70415d266",
   "metadata": {},
   "source": [
    "## Create Dash application"
   ]
  },
  {
   "cell_type": "code",
   "execution_count": null,
   "id": "f83da71e-27af-42ba-acf5-53b733550c0b",
   "metadata": {},
   "outputs": [],
   "source": [
    "app = dash.Dash(__name__)"
   ]
  },
  {
   "cell_type": "markdown",
   "id": "21a174bf-4508-4a97-b73f-84673cd1d5ea",
   "metadata": {},
   "source": [
    "## TASK 1: Launch Site Dropdown"
   ]
  },
  {
   "cell_type": "code",
   "execution_count": null,
   "id": "7934f296-fd8d-4841-a217-c06f4a136c6a",
   "metadata": {},
   "outputs": [],
   "source": [
    "site_options = [{'label': 'All Sites', 'value': 'ALL'}]\n",
    "site_options += [{'label': site, 'value': site} for site in spacex_df['Launch Site'].unique()]\n",
    "\n",
    "app.layout = html.Div(children=[\n",
    "    html.H1('SpaceX Launch Records Dashboard', \n",
    "            style={'textAlign': 'center', 'color': '#503D36',\n",
    "                   'font-size': 40}),\n",
    "    \n",
    "    # Dropdown\n",
    "    dcc.Dropdown(\n",
    "        id='site-dropdown',\n",
    "        options=site_options,\n",
    "        value='ALL',\n",
    "        placeholder=\"Select a Launch Site here\",\n",
    "        searchable=True\n",
    "    ),\n",
    "    html.Br(),"
   ]
  },
  {
   "cell_type": "markdown",
   "id": "30f52db4-34cc-4872-8dc3-b90e9c43a918",
   "metadata": {},
   "source": [
    "## TASK 2: Success Pie Chart"
   ]
  },
  {
   "cell_type": "code",
   "execution_count": null,
   "id": "edc5251f-e9b3-4f6b-b762-2222009fd0b8",
   "metadata": {},
   "outputs": [],
   "source": [
    "html.Div(dcc.Graph(id='success-pie-chart')),\n",
    "    html.Br(),\n",
    "\n",
    "    html.P(\"Payload range (Kg):\"),"
   ]
  },
  {
   "cell_type": "markdown",
   "id": "04cdc46f-549e-4b47-8f27-5718aadd8f27",
   "metadata": {},
   "source": [
    "## TASK 3: Range Slider"
   ]
  },
  {
   "cell_type": "code",
   "execution_count": null,
   "id": "2434ea51-ca46-4368-99f9-3abcc53a238b",
   "metadata": {},
   "outputs": [],
   "source": [
    "  dcc.RangeSlider(\n",
    "        id='payload-slider',\n",
    "        min=0, max=10000, step=1000,\n",
    "        marks={0: '0', 2500: '2500', 5000: '5000', 7500: '7500', 10000: '10000'},\n",
    "        value=[min_payload, max_payload]\n",
    "    ),"
   ]
  },
  {
   "cell_type": "markdown",
   "id": "b7da48de-71e8-4d3f-8e5e-e035ed915519",
   "metadata": {},
   "source": [
    "## TASK 4: Scatter Chart"
   ]
  },
  {
   "cell_type": "code",
   "execution_count": null,
   "id": "77aaa2fa-cbf1-4014-a72b-d05b48c857e7",
   "metadata": {},
   "outputs": [],
   "source": [
    "html.Div(dcc.Graph(id='success-payload-scatter-chart')),\n",
    "])\n"
   ]
  },
  {
   "cell_type": "markdown",
   "id": "c949ca91-41c0-431e-91ef-1356d9c03c8c",
   "metadata": {},
   "source": [
    "## Callback for Pie Chart"
   ]
  },
  {
   "cell_type": "code",
   "execution_count": null,
   "id": "09421067-c807-4e90-a998-88620df49e07",
   "metadata": {},
   "outputs": [],
   "source": [
    "@app.callback(\n",
    "    Output(component_id='success-pie-chart', component_property='figure'),\n",
    "    Input(component_id='site-dropdown', component_property='value')\n",
    ")\n",
    "def update_pie_chart(selected_site):\n",
    "    if selected_site == 'ALL':\n",
    "        fig = px.pie(spacex_df, values='class', \n",
    "                     names='Launch Site', \n",
    "                     title='Total Successful Launches by Site')\n",
    "    else:\n",
    "        filtered_df = spacex_df[spacex_df['Launch Site'] == selected_site]\n",
    "        fig = px.pie(filtered_df, \n",
    "                     names='class',\n",
    "                     title=f\"Launch Outcomes for site {selected_site}\")\n",
    "    return fig\n"
   ]
  },
  {
   "cell_type": "markdown",
   "id": "506ebbca-6a6a-43f3-b333-6450ddc45ed0",
   "metadata": {},
   "source": [
    "## Callback for Scatter Chart"
   ]
  },
  {
   "cell_type": "code",
   "execution_count": null,
   "id": "329468b4-e555-4d9d-ae29-453cf5999fc0",
   "metadata": {},
   "outputs": [],
   "source": [
    "@app.callback(\n",
    "    Output(component_id='success-payload-scatter-chart', component_property='figure'),\n",
    "    [\n",
    "        Input(component_id='site-dropdown', component_property='value'),\n",
    "        Input(component_id='payload-slider', component_property='value')\n",
    "    ]\n",
    ")\n",
    "def update_scatter_chart(selected_site, payload_range):\n",
    "    low, high = payload_range\n",
    "    mask = (spacex_df['Payload Mass (kg)'] >= low) & (spacex_df['Payload Mass (kg)'] <= high)\n",
    "    filtered_df = spacex_df[mask]\n",
    "    \n",
    "    if selected_site != 'ALL':\n",
    "        filtered_df = filtered_df[filtered_df['Launch Site'] == selected_site]\n",
    "    \n",
    "    fig = px.scatter(\n",
    "        filtered_df, x='Payload Mass (kg)', y='class',\n",
    "        color='Booster Version Category',\n",
    "        title='Payload vs. Outcome'\n",
    "    )\n",
    "    return fig"
   ]
  },
  {
   "cell_type": "markdown",
   "id": "a2c21c0a-c2db-4501-8dc8-a93f0a7f450a",
   "metadata": {},
   "source": [
    "## Run app"
   ]
  },
  {
   "cell_type": "code",
   "execution_count": null,
   "id": "7e010ae2-962a-4059-9424-e03c4234d61d",
   "metadata": {},
   "outputs": [],
   "source": [
    "if __name__ == '__main__':\n",
    "    app.run_server(debug=True)\n"
   ]
  },
  {
   "cell_type": "markdown",
   "id": "cde91e02-7d9e-4da4-8bf0-2743157c378d",
   "metadata": {},
   "source": [
    "### Comlete Lab 6: Interactive Dashboard with Plotly Dash\n"
   ]
  },
  {
   "cell_type": "code",
   "execution_count": null,
   "id": "d9555c8f-344c-4ba8-bf94-e85267498b0b",
   "metadata": {},
   "outputs": [],
   "source": []
  }
 ],
 "metadata": {
  "kernelspec": {
   "display_name": "Python 3 (ipykernel)",
   "language": "python",
   "name": "python3"
  },
  "language_info": {
   "codemirror_mode": {
    "name": "ipython",
    "version": 3
   },
   "file_extension": ".py",
   "mimetype": "text/x-python",
   "name": "python",
   "nbconvert_exporter": "python",
   "pygments_lexer": "ipython3",
   "version": "3.13.5"
  }
 },
 "nbformat": 4,
 "nbformat_minor": 5
}
